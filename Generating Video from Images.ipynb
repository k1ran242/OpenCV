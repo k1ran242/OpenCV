{
 "cells": [
  {
   "cell_type": "markdown",
   "metadata": {},
   "source": [
    "### Generating Videos from numpy array"
   ]
  },
  {
   "cell_type": "code",
   "execution_count": 1,
   "metadata": {},
   "outputs": [],
   "source": [
    "import numpy as np\n",
    "import cv2\n",
    "import os\n",
    " \n",
    "width = 1280\n",
    "hieght = 720\n",
    "channel = 3\n",
    " \n",
    "fps = 30\n",
    "sec = 5\n",
    " \n",
    "# Syntax: VideoWriter_fourcc(c1, c2, c3, c4) # Concatenates 4 chars to a fourcc code\n",
    "\n",
    " \n",
    "fourcc = cv2.VideoWriter_fourcc(*'MP42') \n",
    "# FourCC is a 4-byte code used to specify the video codec.\n",
    "# A video codec is software or hardware that compresses and decompresses digital video. \n",
    "# In the context of video compression, codec is a portmanteau of encoder and decoder, \n",
    "# while a device that only compresses is typically called an encoder, and one that only \n",
    " \n",
    "\n",
    "video = cv2.VideoWriter('Test.mp4', fourcc, float(fps), (width, hieght))\n",
    " \n",
    "for frame_count in range(fps*sec):\n",
    "    img = np.random.randint(0,255, (hieght, width, channel), dtype = np.uint8)\n",
    "    video.write(img)\n",
    " \n",
    "video.release()"
   ]
  },
  {
   "cell_type": "markdown",
   "metadata": {},
   "source": [
    "### Generating Videos from Images"
   ]
  },
  {
   "cell_type": "code",
   "execution_count": 2,
   "metadata": {},
   "outputs": [],
   "source": [
    "import numpy as np\n",
    "import cv2\n",
    "import os\n",
    " \n",
    "width = 1280\n",
    "hieght = 720\n",
    "channel = 3\n",
    " \n",
    "fps = 10\n",
    "sec = 5\n",
    " \n",
    "fourcc = cv2.VideoWriter_fourcc(*'MP42')\n",
    " \n",
    "video = cv2.VideoWriter('Test001.mp4', fourcc, float(fps), (width, hieght))\n",
    " \n",
    "directry = r'C:\\Users\\kiran\\Open Cv\\video_to_image'\n",
    " \n",
    "img_name_list = os.listdir(directry)\n",
    " \n",
    "for frame_count in range(fps*sec):\n",
    "    \n",
    "    img_name = np.random.choice(img_name_list)\n",
    "    img_path = os.path.join(directry, img_name)\n",
    "    img = cv2.imread(img_path)\n",
    "    img_resize = cv2.resize(img, (width, hieght))\n",
    "     \n",
    "    video.write(img_resize)\n",
    "     \n",
    "video.release()"
   ]
  },
  {
   "cell_type": "code",
   "execution_count": null,
   "metadata": {},
   "outputs": [],
   "source": []
  }
 ],
 "metadata": {
  "kernelspec": {
   "display_name": "Python 3",
   "language": "python",
   "name": "python3"
  },
  "language_info": {
   "codemirror_mode": {
    "name": "ipython",
    "version": 3
   },
   "file_extension": ".py",
   "mimetype": "text/x-python",
   "name": "python",
   "nbconvert_exporter": "python",
   "pygments_lexer": "ipython3",
   "version": "3.8.3"
  }
 },
 "nbformat": 4,
 "nbformat_minor": 4
}
